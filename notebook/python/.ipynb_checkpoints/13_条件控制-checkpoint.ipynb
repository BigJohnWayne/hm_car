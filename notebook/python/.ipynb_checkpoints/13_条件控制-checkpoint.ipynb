{
 "cells": [
  {
   "cell_type": "code",
   "execution_count": 2,
   "metadata": {},
   "outputs": [
    {
     "name": "stdout",
     "output_type": "stream",
     "text": [
      "itheima\n"
     ]
    }
   ],
   "source": [
    "# if 条件\n",
    "if 1 > 2:\n",
    "    print(\"itcast\")\n",
    "    \n",
    "print(\"itheima\")"
   ]
  },
  {
   "cell_type": "code",
   "execution_count": 4,
   "metadata": {},
   "outputs": [
    {
     "name": "stdout",
     "output_type": "stream",
     "text": [
      "itcast\n"
     ]
    }
   ],
   "source": [
    "# if else条件\n",
    "if 1 < 2:\n",
    "    print(\"itcast\")\n",
    "else:\n",
    "    print(\"itheima\")"
   ]
  },
  {
   "cell_type": "code",
   "execution_count": 7,
   "metadata": {},
   "outputs": [
    {
     "name": "stdout",
     "output_type": "stream",
     "text": [
      "itcast\n"
     ]
    }
   ],
   "source": [
    "# if elif else\n",
    "if 1 < 2:\n",
    "    print('itcast')\n",
    "elif 1 < 3: \n",
    "    print('itheima')\n",
    "else:\n",
    "    print('bxg')"
   ]
  },
  {
   "cell_type": "code",
   "execution_count": null,
   "metadata": {},
   "outputs": [],
   "source": [
    "age = input(\"请输入年龄\")\n",
    "print(age)"
   ]
  },
  {
   "cell_type": "code",
   "execution_count": null,
   "metadata": {},
   "outputs": [],
   "source": [
    "# 输入用户年龄\n",
    "# 判断是否满 18 岁 （>=）\n",
    "# 如果满 18 岁，允许进网吧嗨皮\n",
    "# 如果未满 18 岁，提示回家写作业\n",
    "age = input(\"请输入年龄\")\n",
    "age = int(age)\n",
    "if age >= 18:\n",
    "    print(\"允许进网吧嗨皮\")\n",
    "else:\n",
    "    print(\"回家写作业\")"
   ]
  }
 ],
 "metadata": {
  "kernelspec": {
   "display_name": "Python 3",
   "language": "python",
   "name": "python3"
  },
  "language_info": {
   "codemirror_mode": {
    "name": "ipython",
    "version": 3
   },
   "file_extension": ".py",
   "mimetype": "text/x-python",
   "name": "python",
   "nbconvert_exporter": "python",
   "pygments_lexer": "ipython3",
   "version": "3.7.6"
  }
 },
 "nbformat": 4,
 "nbformat_minor": 4
}
